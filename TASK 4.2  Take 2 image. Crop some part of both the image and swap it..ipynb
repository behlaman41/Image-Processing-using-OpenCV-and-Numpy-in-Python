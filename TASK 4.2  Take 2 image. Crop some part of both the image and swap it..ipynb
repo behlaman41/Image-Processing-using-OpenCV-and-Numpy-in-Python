{
 "cells": [
  {
   "cell_type": "code",
   "execution_count": 25,
   "id": "0b334ca0",
   "metadata": {},
   "outputs": [],
   "source": [
    "# TASK 4.2  Take 2 image. Crop some part of both the image and swap it.\n",
    "\n",
    "import cv2"
   ]
  },
  {
   "cell_type": "code",
   "execution_count": 26,
   "id": "e663e30c",
   "metadata": {},
   "outputs": [],
   "source": [
    "# Read srk image\n",
    "image1 = cv2.imread('srk3.jpg')\n",
    "\n",
    "cv2.imshow(\"image1\", image1)\n",
    "cv2.waitKey()\n",
    "cv2.destroyAllWindows()"
   ]
  },
  {
   "cell_type": "code",
   "execution_count": 27,
   "id": "4bfaf6dc",
   "metadata": {},
   "outputs": [
    {
     "data": {
      "text/plain": [
       "(776, 625, 3)"
      ]
     },
     "execution_count": 27,
     "metadata": {},
     "output_type": "execute_result"
    }
   ],
   "source": [
    "image1.shape"
   ]
  },
  {
   "cell_type": "code",
   "execution_count": 28,
   "id": "7808d0e4",
   "metadata": {},
   "outputs": [],
   "source": [
    "# coordinates of srk face\n",
    "\n",
    "x1 = 234\n",
    "y1 = 10\n",
    "x2 = 496\n",
    "y2 = 269\n",
    "\n",
    "sFace = image1[y1:y2, x1:x2]\n",
    "\n",
    "cv2.imshow(\"Face\", sFace)\n",
    "cv2.waitKey()\n",
    "cv2.destroyAllWindows()\n"
   ]
  },
  {
   "cell_type": "code",
   "execution_count": 29,
   "id": "195251ba",
   "metadata": {},
   "outputs": [],
   "source": [
    "# read another srk image\n",
    "\n",
    "image2 = cv2.imread('srk4.jpg')\n",
    "\n",
    "# display image\n",
    "\n",
    "cv2.imshow(\"SRK\", image2)\n",
    "cv2.waitKey()\n",
    "cv2.destroyAllWindows()"
   ]
  },
  {
   "cell_type": "code",
   "execution_count": 30,
   "id": "df21f791",
   "metadata": {},
   "outputs": [
    {
     "data": {
      "text/plain": [
       "(845, 640, 3)"
      ]
     },
     "execution_count": 30,
     "metadata": {},
     "output_type": "execute_result"
    }
   ],
   "source": [
    "image2.shape"
   ]
  },
  {
   "cell_type": "code",
   "execution_count": 31,
   "id": "cedc0133",
   "metadata": {},
   "outputs": [],
   "source": [
    "# coordinates of face\n",
    "\n",
    "y1 = 10\n",
    "x1 = 234\n",
    "y2 = 269\n",
    "x2 = 496\n",
    "\n",
    "sFace1 = image2[y1:y2, x1:x2]\n",
    "\n",
    "# display cropped image\n",
    "\n",
    "cv2.imshow(\"Face2\", sFace1)\n",
    "cv2.waitKey()\n",
    "cv2.destroyAllWindows()"
   ]
  },
  {
   "cell_type": "code",
   "execution_count": 32,
   "id": "2f51f34b",
   "metadata": {},
   "outputs": [],
   "source": [
    "image1 = cv2.imread('srk3.jpg')\n",
    "image1[y1:y2, x1:x2] = sFace1\n",
    "\n",
    "cv2.imshow(\"swappedfaces\", image1)\n",
    "cv2.waitKey()\n",
    "cv2.destroyAllWindows()"
   ]
  },
  {
   "cell_type": "code",
   "execution_count": 33,
   "id": "d3f1ed38",
   "metadata": {},
   "outputs": [],
   "source": [
    "image2 = cv2.imread('srk4.jpg')\n",
    "image2[y1:y2, x1:x2] = sFace\n",
    "\n",
    "cv2.imshow(\"Swappedfaces\", image2)\n",
    "cv2.waitKey()\n",
    "cv2.destroyAllWindows()"
   ]
  },
  {
   "cell_type": "code",
   "execution_count": null,
   "id": "bc62f31f",
   "metadata": {},
   "outputs": [],
   "source": [
    "\n"
   ]
  },
  {
   "cell_type": "code",
   "execution_count": null,
   "id": "86873d60",
   "metadata": {},
   "outputs": [],
   "source": []
  },
  {
   "cell_type": "code",
   "execution_count": null,
   "id": "671d2dc0",
   "metadata": {},
   "outputs": [],
   "source": []
  }
 ],
 "metadata": {
  "kernelspec": {
   "display_name": "Python 3",
   "language": "python",
   "name": "python3"
  },
  "language_info": {
   "codemirror_mode": {
    "name": "ipython",
    "version": 3
   },
   "file_extension": ".py",
   "mimetype": "text/x-python",
   "name": "python",
   "nbconvert_exporter": "python",
   "pygments_lexer": "ipython3",
   "version": "3.8.8"
  }
 },
 "nbformat": 4,
 "nbformat_minor": 5
}
