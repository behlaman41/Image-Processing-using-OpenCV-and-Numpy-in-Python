{
 "cells": [
  {
   "cell_type": "code",
   "execution_count": 1,
   "id": "2dd978b1",
   "metadata": {},
   "outputs": [],
   "source": [
    "# TASK 4.1 creating custom image using numpy\n",
    "\n",
    "import cv2 \n",
    "import numpy as np\n",
    "pic = np.zeros((900,900,3))"
   ]
  },
  {
   "cell_type": "code",
   "execution_count": 2,
   "id": "0284c597",
   "metadata": {},
   "outputs": [
    {
     "data": {
      "text/plain": [
       "-1"
      ]
     },
     "execution_count": 2,
     "metadata": {},
     "output_type": "execute_result"
    }
   ],
   "source": [
    "import numpy as np\n",
    "import cv2\n",
    "\n",
    "image = np.ones((300, 300, 3), np.uint8) * 255\n",
    "\n",
    "pt1 = (150, 100)\n",
    "pt2 = (100, 200)\n",
    "pt3 = (200, 200)\n",
    "\n",
    "cv2.circle(image, pt1, 2, (0,0,255), -1)\n",
    "cv2.circle(image, pt2, 2, (0,0,255), -1)\n",
    "cv2.circle(image, pt3, 2, (0,0,255), -1)\n",
    "\n",
    "triangle_cnt = np.array( [pt1, pt2, pt3] )\n",
    "\n",
    "cv2.drawContours(image, [triangle_cnt], 0, (0,255,0), -1)\n",
    "\n",
    "cv2.imshow(\"image\", image)\n",
    "cv2.waitKey()\n"
   ]
  },
  {
   "cell_type": "code",
   "execution_count": 3,
   "id": "f1e6362d",
   "metadata": {},
   "outputs": [
    {
     "data": {
      "text/plain": [
       "(300, 300, 3)"
      ]
     },
     "execution_count": 3,
     "metadata": {},
     "output_type": "execute_result"
    }
   ],
   "source": [
    "image.shape"
   ]
  },
  {
   "cell_type": "code",
   "execution_count": 4,
   "id": "d27a1d70",
   "metadata": {},
   "outputs": [
    {
     "data": {
      "text/plain": [
       "-1"
      ]
     },
     "execution_count": 4,
     "metadata": {},
     "output_type": "execute_result"
    }
   ],
   "source": [
    "# hut image\n",
    "\n",
    "image[200:280,100:200]=[0,0,250]\n",
    "cv2.imshow(\"image\", image)\n",
    "cv2.waitKey()"
   ]
  },
  {
   "cell_type": "code",
   "execution_count": 5,
   "id": "335f3c02",
   "metadata": {},
   "outputs": [
    {
     "data": {
      "text/plain": [
       "-1"
      ]
     },
     "execution_count": 5,
     "metadata": {},
     "output_type": "execute_result"
    }
   ],
   "source": [
    "image[240:280,150:190]=[50,200,500]\n",
    "cv2.imshow(\"image\", image)\n",
    "cv2.waitKey()"
   ]
  },
  {
   "cell_type": "code",
   "execution_count": 6,
   "id": "3f6003b2",
   "metadata": {},
   "outputs": [
    {
     "data": {
      "text/plain": [
       "-1"
      ]
     },
     "execution_count": 6,
     "metadata": {},
     "output_type": "execute_result"
    }
   ],
   "source": [
    "\n",
    "image[230:280,110:130]=[200,50,100]\n",
    "cv2.imshow(\"image\", image)\n",
    "cv2.waitKey()"
   ]
  },
  {
   "cell_type": "code",
   "execution_count": null,
   "id": "b27420c7",
   "metadata": {},
   "outputs": [],
   "source": []
  },
  {
   "cell_type": "code",
   "execution_count": null,
   "id": "737141b6",
   "metadata": {},
   "outputs": [],
   "source": []
  }
 ],
 "metadata": {
  "kernelspec": {
   "display_name": "Python 3",
   "language": "python",
   "name": "python3"
  },
  "language_info": {
   "codemirror_mode": {
    "name": "ipython",
    "version": 3
   },
   "file_extension": ".py",
   "mimetype": "text/x-python",
   "name": "python",
   "nbconvert_exporter": "python",
   "pygments_lexer": "ipython3",
   "version": "3.8.8"
  }
 },
 "nbformat": 4,
 "nbformat_minor": 5
}
