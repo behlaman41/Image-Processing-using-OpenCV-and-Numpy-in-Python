{
 "cells": [
  {
   "cell_type": "code",
   "execution_count": 5,
   "id": "fb6b9b82",
   "metadata": {},
   "outputs": [],
   "source": [
    "# TASK 4.3 Take 2 images and combine it to form single image. \n",
    "# collage of images\n",
    "\n",
    "import cv2"
   ]
  },
  {
   "cell_type": "code",
   "execution_count": 6,
   "id": "150385cd",
   "metadata": {},
   "outputs": [],
   "source": [
    "# co-ordinates of batman crop_image\n",
    "\n",
    "x1 = 26\n",
    "y1 = 5\n",
    "x2 = 856\n",
    "y2 = 800 \n",
    "\n",
    "batman = cv2.imread('batman.jpg')\n",
    "bFace = batman[y1:y2, x1:x2]\n",
    "\n",
    "cv2.imshow(\"Batman\", bFace)\n",
    "cv2.waitKey()\n",
    "cv2.destroyAllWindows()"
   ]
  },
  {
   "cell_type": "code",
   "execution_count": 7,
   "id": "186a7fc4",
   "metadata": {},
   "outputs": [],
   "source": [
    "# co-ordinates of superman crop_image\n",
    "\n",
    "x1 = 26\n",
    "y1 = 5\n",
    "x2 = 856\n",
    "y2 = 800\n",
    "\n",
    "superman = cv2.imread('superman.jpg')\n",
    "sFace = superman[y1:y2, x1:x2]\n",
    "\n",
    "cv2.imshow(\"Superman\", sFace)\n",
    "cv2.waitKey()\n",
    "cv2.destroyAllWindows()"
   ]
  },
  {
   "cell_type": "code",
   "execution_count": 8,
   "id": "76891801",
   "metadata": {},
   "outputs": [],
   "source": [
    "#create collage\n",
    "\n",
    "import numpy as np\n",
    "collagedb = np.hstack((bFace, sFace))\n",
    "\n",
    "#Display Image\n",
    "\n",
    "cv2.imshow(\"Collage\", collagedb)\n",
    "cv2.waitKey()\n",
    "cv2.destroyAllWindows()"
   ]
  },
  {
   "cell_type": "code",
   "execution_count": null,
   "id": "728bfb52",
   "metadata": {},
   "outputs": [],
   "source": []
  },
  {
   "cell_type": "code",
   "execution_count": null,
   "id": "5beae9b0",
   "metadata": {},
   "outputs": [],
   "source": []
  }
 ],
 "metadata": {
  "kernelspec": {
   "display_name": "Python 3",
   "language": "python",
   "name": "python3"
  },
  "language_info": {
   "codemirror_mode": {
    "name": "ipython",
    "version": 3
   },
   "file_extension": ".py",
   "mimetype": "text/x-python",
   "name": "python",
   "nbconvert_exporter": "python",
   "pygments_lexer": "ipython3",
   "version": "3.8.8"
  }
 },
 "nbformat": 4,
 "nbformat_minor": 5
}
